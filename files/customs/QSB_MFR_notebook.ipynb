{
 "metadata": {
  "language_info": {
   "codemirror_mode": {
    "name": "ipython",
    "version": 3
   },
   "file_extension": ".py",
   "mimetype": "text/x-python",
   "name": "python",
   "nbconvert_exporter": "python",
   "pygments_lexer": "ipython3",
   "version": "3.7.4"
  },
  "orig_nbformat": 2,
  "kernelspec": {
   "name": "python374jvsc74a57bd02bd2964364db3b719c42815f72d108a73b2f2b078d4935488ba58600ae9e429a",
   "display_name": "Python 3.7.4 64-bit"
  }
 },
 "nbformat": 4,
 "nbformat_minor": 2,
 "cells": [
  {
   "source": [
    "* requirement is that you have the most current version of the QSB and MFR git repositories cloned into the same parent directory\n",
    "\n",
    "> git clone https://git.ipp-hgw.mpg.de/pih/bolometer_mfr\n",
    "> -------------------------------------------------------\n",
    "\n",
    "> git clone https://git.ipp-hgw.mpg.de/pih/QSB_Bolometry\n",
    "> -------------------------------------------------------\n",
    "\n",
    "* given that this worked, you will be able to compile the 2D & 3D grid, geometry data and info\n",
    "\n",
    "## you might need the IDLlib from NASA\n",
    "\n",
    "* go to https://idlastro.gsfc.nasa.gov/idlfaq.html#A3\n",
    "\n",
    "* in Window>User Preferences>IDL>Paths you add the location where you extracted the library\n",
    "\n",
    "* change the appropriate base directory where you want to work in"
   ],
   "cell_type": "markdown",
   "metadata": {}
  },
  {
   "cell_type": "code",
   "execution_count": null,
   "metadata": {},
   "outputs": [],
   "source": [
    "import os, sys, importlib\n",
    "\n",
    "# need to change directories\n",
    "libdir = '//share.ipp-hgw.mpg.de//documents//pih//Documents//git//QSB_Bolometry//'\n",
    "root = '//share.ipp-hgw.mpg.de//documents//pih//Documents//git//QSB_Bolometry//libprad//'\n",
    "\n",
    "os.chdir(root)\n",
    "print('\\\\\\ working dir:', os.getcwd())"
   ]
  },
  {
   "source": [
    "QSB Libraries\n",
    "-------------"
   ],
   "cell_type": "markdown",
   "metadata": {}
  },
  {
   "source": [
    "sys.path.append(libdir + 'files/customs/')\n",
    "sys.path.append(libdir + 'libprad/')\n",
    "sys.path.append(libdir + 'libprad/libwebapi/')\n",
    "sys.path.append(libdir + 'libprad/liboutput/')\n",
    "sys.path.append(libdir + 'libprad/libtraining/')\n",
    "sys.path.append(libdir + 'libprad/libradcalc/')\n",
    "sys.path.append(libdir + 'libprad/libscaling/')\n",
    "print('\\\\\\ loaded QSB lib')"
   ],
   "cell_type": "code",
   "metadata": {},
   "execution_count": null,
   "outputs": []
  },
  {
   "source": [
    "Inversion libraries\n",
    "-------------------"
   ],
   "cell_type": "markdown",
   "metadata": {}
  },
  {
   "cell_type": "code",
   "execution_count": null,
   "metadata": {},
   "outputs": [],
   "source": [
    "sys.path.append(libdir + 'libinversion/')\n",
    "sys.path.append(libdir + 'libinversion/libcalc')\n",
    "sys.path.append(libdir + 'libinversion/libaccessoires/')\n",
    "sys.path.append(libdir + 'libinversion/liboutput/')\n",
    "print('\\\\\\ loaded inversion lib')"
   ]
  },
  {
   "source": [
    "* available magnetic configurations in database definition"
   ],
   "cell_type": "markdown",
   "metadata": {}
  },
  {
   "cell_type": "code",
   "execution_count": null,
   "metadata": {},
   "outputs": [],
   "source": [
    "import database_inv\n",
    "foo = database_inv.import_database()\n",
    "\n",
    "for i, conf in enumerate(foo['values']['magnetic_configurations'].keys()):\n",
    "    print(conf)  #  + ':','\\n\\t', foo['values']['magnetic_configurations'][conf]['description'])"
   ]
  },
  {
   "cell_type": "code",
   "execution_count": null,
   "metadata": {},
   "outputs": [],
   "source": [
    "program = '20181010.032'\n",
    "nPhi = 10  # toroidal slices\n",
    "nFS = 10  # radial slices\n",
    "nL = 10  # poloidal slices\n",
    "vpF = 1.3  # blowup from LCFS\n",
    "N = [1, 2]  # detector seperation, short X long side, 8\n",
    "nN = N[0] * N[1] if isinstance(N, list) else N\n",
    "interpolation = 'square'  # detector split mode (triang)\n",
    "magconf = 'EIM_000'  # magnetic configuration\n",
    "\n",
    "strgrid = interpolation[0] + 'N' + str(nN) + '_' + \\\n",
    "          str(nPhi) + 'x' + str(nFS) + 'x' + str(nL) + '_' + str(vpF) \n",
    "confstr = magconf[:4] + 'beta' + magconf[-3:] + '_' + interpolation[0] + \\\n",
    "          'N' + str(nN) + '_' + str(nPhi) + 'x' + str(nFS) + \\\n",
    "          'x' + str(nL) + '_' + str(vpF)\n",
    "print('\\\\\\ strgrid ' + strgrid + ' confstr ' + confstr)\n",
    "\n",
    "def crtdir(loc):\n",
    "    try:\n",
    "        os.mkdir(loc)\n",
    "    except Exception:\n",
    "        print('\\\\\\ ' + loc + ' exists')\n",
    "    return\n",
    "\n",
    "os.chdir(root)\n",
    "crtdir(root + '../results')\n",
    "crtdir(root + '../results/CURRENT/')\n",
    "crtdir(root + '../results/INVERSION/')\n",
    "\n",
    "crtdir(root + '../results/INVERSION/PROFILE')\n",
    "crtdir(root + '../results/INVERSION/PROFILE/' + confstr)\n",
    "\n",
    "crtdir(root + '../results/INVERSION/CAMGEO')\n",
    "crtdir(root + '../results/INVERSION/FS')\n",
    "crtdir(root + '../results/INVERSION/MESH')\n",
    "crtdir(root + '../results/INVERSION/MESH/TRIAGS')\n",
    "\n",
    "crtdir(root + '../results/INVERSION/MFR')\n",
    "crtdir(root + '../results/INVERSION/MFR/' + strgrid)\n",
    "\n",
    "os.chdir(root)\n",
    "print('\\\\\\ working dir:', os.getcwd())"
   ]
  },
  {
   "source": [
    "* coming up is the routine that calculates the geometry data in 2D and 3D including volume, emissivity, radius (effective in cross section)\n",
    "\n",
    "* input parameters are pretty much self explanatory, directories specific to the combination of input might have to be created beforehand\n",
    "\n",
    "> ../results/INVERSION/PROFILE/ + 'magconf' + _ + 's/t' + N + 'N\\[0\\]*N\\[1] / N' + _ + 'nPhi' + x + 'nFS' + x + 'nL' + _ + 'vpF'"
   ],
   "cell_type": "markdown",
   "metadata": {}
  },
  {
   "cell_type": "code",
   "execution_count": null,
   "metadata": {},
   "outputs": [],
   "source": [
    "import invert_main as invert\n",
    "importlib.reload(invert)\n",
    "invert.main(\n",
    "    nPhi=nPhi,\n",
    "    nFS=nFS,\n",
    "    nL=nL,\n",
    "    vpF=vpF,\n",
    "    N=[1, 2],\n",
    "    interp_method=interpolation,    \n",
    "    VMID=magconf,\n",
    "    tilt=False,  # tilt camera\n",
    "    tilt_deg=.0,  # camera aperture tilt if enabled\n",
    "    random_error=False,  # wiggle at apertureas\n",
    "    error_scale=0.0001,  # aperture positioning error (rand, mm)\n",
    "    add_camera=False,  # add artificial camera\n",
    "    new_type=None,  # artificial camera (HBCm)\n",
    "    cartesian=False,  # cartesian grid\n",
    "    artificial_HBCm=False,  # perfectly symmetric HBCm camera\n",
    "    fix_LoS=False,  # LoS fix up/down asymmetry\n",
    "    centered=False,  # centered HBCm aperture to z=0.0\n",
    "    symmetric=False,  # symmetric around aperture normal?\n",
    "    debug=True,  # verbose\n",
    "    plot=False)  # plot after"
   ]
  },
  {
   "source": [
    "* now one needs to reformat and calculate the important values for the IDL interface and MFR method"
   ],
   "cell_type": "markdown",
   "metadata": {}
  },
  {
   "cell_type": "code",
   "execution_count": null,
   "metadata": {},
   "outputs": [],
   "source": [
    "import mfr2D_matrix_gridtransform as transf\n",
    "\n",
    "crtdir(root + '../../bolometer_mfr/chpow/' + program)\n",
    "print('>> Make files for MFR routine from 3D/2D results')\n",
    "transf.prepare_geometry_power(\n",
    "    program=program,\n",
    "    label='_' + confstr,\n",
    "    strgrid=strgrid,\n",
    "    debug=False)"
   ]
  },
  {
   "source": [],
   "cell_type": "markdown",
   "metadata": {}
  },
  {
   "source": [
    "* next comes the set of commands you need to do the mfr routine\n",
    "\n",
    "### after opening the IDL console and you do:\n",
    "\n",
    "* moving to the source code directory, change *pih* to something accordingly of your usr\n",
    "\n",
    "> IDL> CD, '\\\\share.ipp-hgw.mpg.de\\documents\\pih\\Documents\\git\\bolometer_mfr\\source'\n",
    "\n",
    "* compiling the routine\n",
    "\n",
    "> IDL> .compile mfrmain19\n",
    "\n",
    "* main mfr routine, true or false values in input are given via 1/0\n",
    "\n",
    "\n",
    "> IDL>    \n",
    "    mfr,\n",
    "    shot='20181010.032',  ; program    \n",
    "    magconf='EIM_beta000',  ; magnetic configuration    \n",
    "    phantom=0,  ; phantom type string if phantom test, else true/false    \n",
    "    strgrid='sN2_10x10x10_1.3',  ; grid string from before    \n",
    "    artificial=0,  ; artificial camera true/false    \n",
    "    new_type='',  ; new camera type if true, 'HBCm'    \n",
    "    reduced=1,  ; reduced set of lines of sight for XP, 0 for phantoms    \n",
    "    RGS=0,  ; RGS method, true/false   \n",
    "    abel=0,  ; linear inversion if abel, true/false    \n",
    "    nigs=1,  ; number of gaussian error pertubation tests after inversion    \n",
    "    no_ani=3,  ; modes of K factor profiles, see below   \n",
    "    kcore=2.,  ; inside (small radii) K factor    \n",
    "    kedge=.35,  ; outside (large radii) K factor    \n",
    "    nTarget=7,  ; profile point to change in-/outside    \n",
    "    nWidth=1,  ; width of transition in K profile for no_ani=4    \n",
    "    tran_inv=\\[1., 1.05\\],  ; point in time/time trace to invert, steps at 0.05s, minimum interval    \n",
    "    fac_err=1.,  ; error weighting factor    \n",
    "    debug=1  ; verbose printing and imaging\n",
    "\n",
    "### EXAMPLE\n",
    "\n",
    "> IDL> mfr,shot='20181010.032',magconf='EIM_beta000',strgrid='sN2_10x10x10_1.3',debug=0,no_ani=3,kcore=2.,kedge=.35,nTarget=7,tran_inv=\\[2.8, 2.85\\]\n",
    "\n",
    "### K Factor Modes\n",
    "\n",
    "* no_ani: 0\n",
    "> ncore = 5    \n",
    "  kani\\[0:ncore - 1\\] = kcore    \n",
    "  kani\\[ncore:nrmax - 1\\] = (kcore - (INDGEN(next) + 1.) * kedge / next)\n",
    "\n",
    "* no_ani: 1\n",
    "> kani = 1.\n",
    "\n",
    "* no_ani: 2\n",
    "> kani\\[0:ncore - 1\\] = kcore   \n",
    "  kani\\[ncore:nrmax - 1\\] = (kcore - (INDGEN(next) + 1.) * kedge / next)\n",
    "\n",
    "* no_ani: 3\n",
    "> kani\\[0:nTarget\\] = kcore    \n",
    "  kani\\[nTarget:nrmax - 1\\] = kedge\n",
    "\n",
    "* no_ani: 4\n",
    "> kani = smooth arctan around nTarget with nWidth transition"
   ],
   "cell_type": "markdown",
   "metadata": {}
  },
  {
   "source": [
    "## Visualization\n",
    "\n",
    "* after the MFR routine finished plot and diagnose all the stuff"
   ],
   "cell_type": "markdown",
   "metadata": {}
  },
  {
   "cell_type": "code",
   "execution_count": null,
   "metadata": {},
   "outputs": [],
   "source": [
    "import mfr2D_accessoires as mfr2D\n",
    "os.chdir(root)\n",
    "print('\\\\\\ working dir:', os.getcwd())\n",
    "\n",
    "results = mfr2D.get_mfr_results(\n",
    "    program=program,\n",
    "    no_ani=3,  # no_ani mode\n",
    "    kani=[2., .35],  # [kcore, kedge]\n",
    "    nVals=7,  # nTarget, or [nTarget, nWidth]\n",
    "    nigs=1,\n",
    "    times=1.,\n",
    "    grid_nt=10,\n",
    "    grid_nr=10,\n",
    "    strgrid=strgrid,\n",
    "    base='_mfr1D',\n",
    "    magconf=magconf[:4] + 'beta' + magconf[-3:],\n",
    "    new_type=None,\n",
    "    add_camera=False,\n",
    "    reduced=True,\n",
    "    phantom=False,\n",
    "    plot=True,\n",
    "    saving=True,\n",
    "    debug=False)"
   ]
  },
  {
   "source": [
    "## Phantoms\n",
    "* you wanna do phantom images to reconstruct you have to contruct them in the first place\n",
    "\n",
    "### possibilities in mfr_phantoms (comment/uncomment)\n",
    "* STRAHL_to_phantom(strahl_id='00091',...)\n",
    "\n",
    "* spot_pos_mesh(position=...)\n",
    "\n",
    "* radial_profile(radius, sigma1, sigma2, ....)\n",
    "\n",
    "* fluxsurface_reff_ring(radius, sigma, ...)\n",
    "\n",
    "* anisotropic_fluxsurface_ring(radius, mode_number, ...)\n",
    "\n",
    "* blind_test_ones(all at max level)"
   ],
   "cell_type": "markdown",
   "metadata": {}
  },
  {
   "cell_type": "code",
   "execution_count": null,
   "metadata": {},
   "outputs": [],
   "source": [
    "import mfr_phantoms as mfrp\n",
    "os.chdir(root)\n",
    "print('\\\\\\ working dir:', os.getcwd())\n",
    "\n",
    "mfrp.ch_pow_phantoms(\n",
    "    strgrid=strgrid,\n",
    "    sigma=0.2,  # smoothness in phantom, in (W/m^3)/m\n",
    "    x0=[5., 0.],  # hot spot location if chosen, in m\n",
    "    amplitude=1.e6,  # maximum, in W/m^3\n",
    "    add_noise=False,  #  random error\n",
    "    error=0.025,  # in % of max amplitude, W/m^3\n",
    "    in_label='_' + confstr,\n",
    "    save_base='../results/INVERSION/MFR/',\n",
    "    new_type=None,  # new artificial camera type \n",
    "    add_camera=False,  # artificial camera\n",
    "    systematic_error=False,  # camera geometry error implemented\n",
    "    debug=False)  # debugging"
   ]
  },
  {
   "source": [
    "### MFR Phantom Example\n",
    "* the new mfr call should look like\n",
    "> IDL>    \n",
    "mfr,    \n",
    "shot='phan_',    \n",
    "phantom='sym_R1.1_m5_mx1.0e+06',    \n",
    "magconf='EIM_beta000',    \n",
    "strgrid='sN2_10x10x10_1.3',    \n",
    "debug=1,    \n",
    "no_ani=3,    \n",
    "kcore=.1,    \n",
    "kedge=2.,    \n",
    "nTarget=7,    \n",
    "tran_inv=\\[0.11, 0.16\\]\n",
    "\n",
    "\n",
    "## phantom comparison visualization\n"
   ],
   "cell_type": "markdown",
   "metadata": {}
  },
  {
   "cell_type": "code",
   "execution_count": null,
   "metadata": {},
   "outputs": [],
   "source": [
    "import phantom_metrics as phm\n",
    "os.chdir(root)\n",
    "print('\\\\\\ working dir:', os.getcwd())\n",
    "\n",
    "results = phm.compare_tomo_phantom(\n",
    "    nFS=nFS,\n",
    "    nL=nL,\n",
    "    N=nN,\n",
    "    no_ani=3,\n",
    "    kani=[.1, 2.],\n",
    "    nVals=7,\n",
    "    nigs=1,\n",
    "    times=0.11,\n",
    "    label='sym_R1.1_m5_mx1.0e+06',\n",
    "    strgrid=strgrid,\n",
    "    base='_mfr1D',\n",
    "    vmec_ID=magconf,\n",
    "    magconf=magconf[:4] + 'beta' + magconf[-3:],\n",
    "    add_camera=False,\n",
    "    new_type=None,\n",
    "    reduced=False,\n",
    "    plot=True,\n",
    "    saving=True,\n",
    "    debug=False)"
   ]
  }
 ]
}