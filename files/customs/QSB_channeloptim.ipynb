{
 "metadata": {
  "language_info": {
   "codemirror_mode": {
    "name": "ipython",
    "version": 3
   },
   "file_extension": ".py",
   "mimetype": "text/x-python",
   "name": "python",
   "nbconvert_exporter": "python",
   "pygments_lexer": "ipython3",
   "version": "3.7.4-final"
  },
  "orig_nbformat": 2,
  "kernelspec": {
   "name": "python3",
   "display_name": "Python 3.7.4 64-bit",
   "metadata": {
    "interpreter": {
     "hash": "2bd2964364db3b719c42815f72d108a73b2f2b078d4935488ba58600ae9e429a"
    }
   }
  }
 },
 "nbformat": 4,
 "nbformat_minor": 2,
 "cells": [
  {
   "cell_type": "code",
   "execution_count": null,
   "metadata": {
    "tags": []
   },
   "outputs": [],
   "source": [
    "import requests\n",
    "import json\n",
    "\n",
    "URL = 'https://w7x-logbook.ipp-hgw.mpg.de/api/search.html?size=100&q=id:XP_2018.*%20name:*eference_discharge*'\n",
    "resp = requests.get(URL).json()\n",
    "\n",
    "programs = []\n",
    "for i, j in enumerate(resp['hits']['hits']):\n",
    "    day, shot = j['_id'].replace('XP_', '').replace('.', ' ').split()\n",
    "\n",
    "    programs.append(day + '.' + str(shot).zfill(3))\n",
    "print(programs)"
   ]
  },
  {
   "cell_type": "code",
   "execution_count": null,
   "metadata": {
    "tags": []
   },
   "outputs": [],
   "source": [
    "from glob import glob\n",
    "\n",
    "path = '//share.ipp-hgw.mpg.de/documents/pih/Documents/git/QSB_Bolometry/results/COMBINATIONS'\n",
    "programs = [\n",
    "    x.replace(path, '').replace('\\\\', '')\n",
    "    for x in glob(path + '/*/') if 'old' not in x ]\n",
    "print(programs)"
   ]
  },
  {
   "cell_type": "code",
   "execution_count": null,
   "metadata": {
    "tags": []
   },
   "outputs": [],
   "source": [
    "# channel optimization# op stats\n",
    "import os\n",
    "from importlib import reload\n",
    "import numpy as np\n",
    "\n",
    "import training\n",
    "import correlation\n",
    "import sensitivity\n",
    "import training_plot\n",
    "import combination\n",
    "\n",
    "reload(training)\n",
    "reload(correlation)\n",
    "reload(combination)\n",
    "reload(sensitivity)\n",
    "reload(training_plot)\n",
    "\n",
    "os.chdir('//share.ipp-hgw.mpg.de/documents/pih/Documents/git/QSB_Bolometry/libprad/')\n",
    "mode = 'weighted_deviation'\n",
    "if False:\n",
    "    programs =  [\n",
    "        '20181010.032', '20180725.044', '20180809.013', '20180920.049',\n",
    "        '20181004.024', '20181010.030', '20181010.036', '20181011.012', '20181016.023']\n",
    "\n",
    "for P in programs:\n",
    "    training.training_master(\n",
    "        program=P, URI_vers='V4', mode=mode, nCH=3, plot=True)"
   ]
  },
  {
   "cell_type": "code",
   "execution_count": null,
   "metadata": {},
   "outputs": [],
   "source": [
    "import json\n",
    "import dat_lists as lists\n",
    "import numpy as np\n",
    "\n",
    "geom = lists.geom_dat_to_json()\n",
    "res = {}\n",
    "\n",
    "for P in programs:\n",
    "    res[P] = {}\n",
    "\n",
    "    for cam in ['HBCm', 'VBC']:\n",
    "        try:\n",
    "            with open(\n",
    "                    '../results/COMBINATIONS/' + P +\n",
    "                    '/weighted_deviation/3_' + cam + '/' +\n",
    "                    'spectrum_analysis_' + mode + '.json', 'r') as f:\n",
    "                foo = json.load(f)\n",
    "            f.close()\n",
    "        except Exception:\n",
    "            print('\\t\\t\\\\\\ failed ' + P)\n",
    "        res[P][cam] = foo"
   ]
  },
  {
   "cell_type": "code",
   "execution_count": null,
   "metadata": {},
   "outputs": [],
   "source": [
    "res['20181010.032']['HBCm'].keys()"
   ]
  },
  {
   "cell_type": "code",
   "execution_count": null,
   "metadata": {},
   "outputs": [],
   "source": [
    "import matplotlib as mpl\n",
    "import matplotlib.pyplot as p\n",
    "import numpy as np\n",
    "\n",
    "for P in programs:\n",
    "    for cam in ['HBCm', 'VBC']:\n",
    "\n",
    "        p.plot(np.array(res[P][cam]['av_sense_channels']) / max(res[P][cam]['av_sense_channels']))\n",
    "\n",
    "        # break"
   ]
  }
 ]
}