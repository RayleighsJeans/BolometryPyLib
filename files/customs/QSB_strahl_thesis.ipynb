{
 "cells": [
  {
   "cell_type": "code",
   "execution_count": 1,
   "metadata": {},
   "outputs": [
    {
     "ename": "TypeError",
     "evalue": "'NoneType' object is not subscriptable",
     "output_type": "error",
     "traceback": [
      "\u001b[1;31m---------------------------------------------------------------------------\u001b[0m",
      "\u001b[1;31mTypeError\u001b[0m                                 Traceback (most recent call last)",
      "\u001b[1;32m<ipython-input-1-eb1dbd349e86>\u001b[0m in \u001b[0;36m<module>\u001b[1;34m\u001b[0m\n\u001b[0;32m     24\u001b[0m \u001b[0mprogram_info\u001b[0m\u001b[1;33m,\u001b[0m \u001b[0mreq\u001b[0m \u001b[1;33m=\u001b[0m \u001b[0mapi\u001b[0m\u001b[1;33m.\u001b[0m\u001b[0mxpid_info\u001b[0m\u001b[1;33m(\u001b[0m\u001b[0mprogram\u001b[0m\u001b[1;33m=\u001b[0m\u001b[0mprogram\u001b[0m\u001b[1;33m)\u001b[0m\u001b[1;33m\u001b[0m\u001b[1;33m\u001b[0m\u001b[0m\n\u001b[0;32m     25\u001b[0m \u001b[1;33m\u001b[0m\u001b[0m\n\u001b[1;32m---> 26\u001b[1;33m \u001b[0mt0\u001b[0m \u001b[1;33m=\u001b[0m \u001b[0mprogram_info\u001b[0m\u001b[1;33m[\u001b[0m\u001b[1;34m'programs'\u001b[0m\u001b[1;33m]\u001b[0m\u001b[1;33m[\u001b[0m\u001b[1;36m0\u001b[0m\u001b[1;33m]\u001b[0m\u001b[1;33m[\u001b[0m\u001b[1;34m'trigger'\u001b[0m\u001b[1;33m]\u001b[0m\u001b[1;33m[\u001b[0m\u001b[1;34m'1'\u001b[0m\u001b[1;33m]\u001b[0m\u001b[1;33m[\u001b[0m\u001b[1;36m0\u001b[0m\u001b[1;33m]\u001b[0m  \u001b[1;31m# in ns\u001b[0m\u001b[1;33m\u001b[0m\u001b[1;33m\u001b[0m\u001b[0m\n\u001b[0m\u001b[0;32m     27\u001b[0m \u001b[0mt4\u001b[0m \u001b[1;33m=\u001b[0m \u001b[0mprogram_info\u001b[0m\u001b[1;33m[\u001b[0m\u001b[1;34m'programs'\u001b[0m\u001b[1;33m]\u001b[0m\u001b[1;33m[\u001b[0m\u001b[1;36m0\u001b[0m\u001b[1;33m]\u001b[0m\u001b[1;33m[\u001b[0m\u001b[1;34m'trigger'\u001b[0m\u001b[1;33m]\u001b[0m\u001b[1;33m[\u001b[0m\u001b[1;34m'4'\u001b[0m\u001b[1;33m]\u001b[0m\u001b[1;33m[\u001b[0m\u001b[1;36m0\u001b[0m\u001b[1;33m]\u001b[0m  \u001b[1;31m# in ns\u001b[0m\u001b[1;33m\u001b[0m\u001b[1;33m\u001b[0m\u001b[0m\n",
      "\u001b[1;31mTypeError\u001b[0m: 'NoneType' object is not subscriptable"
     ]
    }
   ],
   "source": [
    "import thomson_scattering as TS\n",
    "import importlib\n",
    "import thomsonS_access as TA\n",
    "import TS_to_json as TJ\n",
    "import plot_funcs as pf\n",
    "\n",
    "import archivedb\n",
    "import numpy as np\n",
    "import matplotlib.pyplot as p\n",
    "import factors_geometry_plots as fgp\n",
    "\n",
    "import read_calculation_corona as rcc\n",
    "import profile_to_lint as ptl\n",
    "import invert_main as invert\n",
    "import mfr2D_matrix_gridtransform as grid_transf\n",
    "import phantom_methods as pm\n",
    "import radiational_fraction as radfrac\n",
    "\n",
    "import os\n",
    "os.chdir(r'\\\\share.ipp-hgw.mpg.de\\documents\\pih\\Documents\\git\\QSB_Bolometry\\libprad')\n",
    "\n",
    "import webapi_access as api\n",
    "program = '20181010.032'\n",
    "program_info, req = api.xpid_info(program=program)\n",
    "\n",
    "t0 = program_info['programs'][0]['trigger']['1'][0]  # in ns\n",
    "t4 = program_info['programs'][0]['trigger']['4'][0]  # in ns"
   ]
  },
  {
   "cell_type": "code",
   "execution_count": 3,
   "metadata": {},
   "outputs": [
    {
     "data": {
      "text/plain": [
       "{'programs': [{'id': '20181010.032',\n",
       "   'name': '#142598 ID07_O2_55MJ_9.1s_PrefillOnly',\n",
       "   'description': '',\n",
       "   'sessionInfo': '',\n",
       "   'from': 1539179650333392501,\n",
       "   'upto': 1539179729933392500,\n",
       "   'trigger': None,\n",
       "   'trigger_str': None,\n",
       "   'from_str': '1539179650333392501',\n",
       "   'upto_str': '1539179729933392500'}]}"
      ]
     },
     "execution_count": 3,
     "metadata": {},
     "output_type": "execute_result"
    }
   ],
   "source": [
    "program_info"
   ]
  },
  {
   "cell_type": "code",
   "execution_count": null,
   "metadata": {
    "tags": [
     "outputPrepend"
    ]
   },
   "outputs": [],
   "source": [
    "importlib.reload(TS)\n",
    "data, names, dtypes, units, info = TS.ts_data_full_analysis(\n",
    "    shotno=program,\n",
    "    t_start_analysis=(t0 - t0) / 1.e9,\n",
    "    t_end_analysis=(t4 - t0) / 1.e9,\n",
    "    TS_version='',\n",
    "    vmec_id='',\n",
    "    calc_w_e=False,\n",
    "    burst=False,\n",
    "    sanity_checks=False,\n",
    "    scaling='gauss',\n",
    "    debug=True)"
   ]
  },
  {
   "cell_type": "code",
   "execution_count": null,
   "metadata": {
    "tags": []
   },
   "outputs": [],
   "source": [
    "importlib.reload(TA)\n",
    "importlib.reload(TJ)\n",
    "importlib.reload(pf)\n",
    "\n",
    "TS, avg_TS = TA.thomson_scaled_grab(\n",
    "    shotno=program, plot=True, debug=False,\n",
    "    saving=True, evalStart=7.15, evalEnd=7.2)"
   ]
  },
  {
   "cell_type": "code",
   "execution_count": null,
   "metadata": {},
   "outputs": [],
   "source": [
    "importlib.reload(rcc)\n",
    "(data, grid_data, labels, r_maj, \n",
    " el_symb, mass, density, number_density,\n",
    " results, run_id) = rcc.scale_impurity_radiation(\n",
    "    material='C_',  # 'C_', file='C_00091t0.000_0.621_1',\n",
    "    strahl_id='00091',  # '00005'\n",
    "    debug=False)"
   ]
  },
  {
   "cell_type": "code",
   "execution_count": 18,
   "metadata": {},
   "outputs": [
    {
     "name": "stdout",
     "output_type": "stream",
     "text": [
      "\t>>Loading 00091t0.000_0.621_1\n",
      "\t>>Loading 00092t1.220_2.220_1\n"
     ]
    }
   ],
   "source": [
    "importlib.reload(pf)\n",
    "importlib.reload(rcc)\n",
    "pf.compare_strahl(\n",
    "    program='20181010.032',\n",
    "    files=None,  # ['C_00009t2.421_3.421_1'],\n",
    "    material='C_',\n",
    "    strahl_ids=[\n",
    "        '00091',\n",
    "        '00092'],\n",
    "        # '00093',\n",
    "        # '00094'],\n",
    "    names=[\n",
    "        'f$_{rad}$=33%',\n",
    "        'f$_{rad}$=66%'],\n",
    "        # 'f$_{rad}$=90%',\n",
    "        # 'f$_{rad}$=100%'],\n",
    "    figx=5., figy=3.,\n",
    "    mode='full',  # 'full',  # 'edge',\n",
    "    debug=False)"
   ]
  },
  {
   "cell_type": "code",
   "execution_count": 6,
   "metadata": {},
   "outputs": [
    {
     "name": "stdout",
     "output_type": "stream",
     "text": [
      "\t>>Loading 00081t6.154_7.154_1\n",
      "\t>>Loading 00082t2.421_3.421_1\n"
     ]
    }
   ],
   "source": [
    "importlib.reload(pf)\n",
    "importlib.reload(rcc)\n",
    "pf.compare_strahl(\n",
    "    program='20181010.032',\n",
    "    files=None,  # ['C_00009t2.421_3.421_1'],\n",
    "    material='C_',\n",
    "    strahl_ids=[\n",
    "        # '00079',\n",
    "        # '00080',\n",
    "        '00081',\n",
    "        '00082'],\n",
    "    names=[\n",
    "        # 'f$_{rad}$=33%',\n",
    "        # 'f$_{rad}$=66%',\n",
    "        'f$_{rad}$=90%',\n",
    "        'f$_{rad}$=100%'],\n",
    "    figx=5., figy=3.,\n",
    "    mode='edge',  # 'full',  # 'edge',\n",
    "    debug=False)"
   ]
  },
  {
   "cell_type": "code",
   "execution_count": 7,
   "metadata": {},
   "outputs": [
    {
     "name": "stdout",
     "output_type": "stream",
     "text": [
      "\t>>Loading 00094t2.421_3.421_1\n",
      "\t>>Loading 00105t2.421_3.421_1\n"
     ]
    }
   ],
   "source": [
    "importlib.reload(pf)\n",
    "importlib.reload(rcc)\n",
    "pf.compare_strahl(\n",
    "    program='20181010.032',\n",
    "    files=None,  # ['C_00009t2.421_3.421_1'],\n",
    "    material='C_',\n",
    "    strahl_ids=[\n",
    "        # '00017',\n",
    "        # '00013',\n",
    "        '00094',\n",
    "        # '00106',\n",
    "        '00105'\n",
    "        ],\n",
    "    names=[\n",
    "        # '$\\\\lambda$=1cm',\n",
    "        # '$\\\\lambda$=5cm'\n",
    "        '$\\\\lambda$=5cm',\n",
    "        # '$\\\\lambda$=.5cm'\n",
    "        '$\\\\lambda$=2cm' \n",
    "        ],\n",
    "    figx=5., figy=3.,\n",
    "    mode='edge',  # 'full',  # 'edge',\n",
    "    debug=False)"
   ]
  },
  {
   "cell_type": "code",
   "execution_count": 8,
   "metadata": {},
   "outputs": [
    {
     "name": "stdout",
     "output_type": "stream",
     "text": [
      "\t>>Loading 00062t2.421_3.421_1\n",
      "\t>>Loading 00066t2.421_3.421_1\n"
     ]
    }
   ],
   "source": [
    "importlib.reload(pf)\n",
    "importlib.reload(rcc)\n",
    "pf.compare_strahl(\n",
    "    program='20181010.032',\n",
    "    files=None,  # ['C_00009t2.421_3.421_1'],\n",
    "    material='C_',\n",
    "    strahl_ids=[\n",
    "        '00062',\n",
    "        '00066'],\n",
    "    names=[\n",
    "        'D$_{2}$',\n",
    "        'D$_{1}$'],\n",
    "    figx=5., figy=3.,\n",
    "    mode='edge',  # 'full',  # 'edge',\n",
    "    debug=False)"
   ]
  },
  {
   "cell_type": "code",
   "execution_count": 9,
   "metadata": {},
   "outputs": [
    {
     "name": "stdout",
     "output_type": "stream",
     "text": [
      "\t>>Loading 00029t2.421_3.421_1\n",
      "\t>>Loading 00033t2.421_3.421_1\n"
     ]
    }
   ],
   "source": [
    "importlib.reload(pf)\n",
    "importlib.reload(rcc)\n",
    "pf.compare_strahl(\n",
    "    program='20181010.032',\n",
    "    files=None,  # ['C_00009t2.421_3.421_1'],\n",
    "    material='C_',\n",
    "    strahl_ids=[\n",
    "        '00029',\n",
    "        '00033'],\n",
    "    names=[\n",
    "        'k=3',\n",
    "        'k=5'],\n",
    "    figx=5., figy=3.,\n",
    "    mode='edge',  # 'full',  # 'edge',\n",
    "    debug=False)"
   ]
  },
  {
   "cell_type": "code",
   "execution_count": 11,
   "metadata": {},
   "outputs": [
    {
     "name": "stdout",
     "output_type": "stream",
     "text": [
      "\t>>Loading 00025t2.421_3.421_1\n",
      "\t>>Loading 00033t2.421_3.421_1\n"
     ]
    }
   ],
   "source": [
    "importlib.reload(pf)\n",
    "importlib.reload(rcc)\n",
    "pf.compare_strahl(\n",
    "    program='20181010.032',\n",
    "    files=None,  # ['C_00009t2.421_3.421_1'],\n",
    "    material='C_',\n",
    "    strahl_ids=[\n",
    "        '00025',\n",
    "        '00033'],\n",
    "    names=[\n",
    "        'orig. TS',\n",
    "        'spline'],\n",
    "    figx=5., figy=3.,\n",
    "    mode='edge',  # 'full',  # 'edge',\n",
    "    debug=False)"
   ]
  },
  {
   "cell_type": "code",
   "execution_count": 12,
   "metadata": {},
   "outputs": [
    {
     "name": "stdout",
     "output_type": "stream",
     "text": [
      "\t>>Loading 00082t2.421_3.421_1\n",
      "\t>>Loading 00094t2.421_3.421_1\n"
     ]
    }
   ],
   "source": [
    "importlib.reload(pf)\n",
    "importlib.reload(rcc)\n",
    "pf.compare_strahl(\n",
    "    program='20181010.032',\n",
    "    files=None,  # ['C_00009t2.421_3.421_1'],\n",
    "    material='C_',\n",
    "    strahl_ids=[\n",
    "        '00082',\n",
    "        '00094'],\n",
    "    names=[\n",
    "        'S@r$_{a}$',\n",
    "        'S@r$_{a}$+7.5cm'],\n",
    "    figx=5., figy=3.,\n",
    "    mode='edge',  # 'full',  # 'edge',\n",
    "    debug=False)"
   ]
  },
  {
   "cell_type": "code",
   "execution_count": 19,
   "metadata": {},
   "outputs": [
    {
     "name": "stdout",
     "output_type": "stream",
     "text": [
      "\t>>Loading 00103t2.421_3.421_1\n",
      "\t>>Loading 00104t2.421_3.421_1\n",
      "\t\\\\ TS file found, loading 20181010/032/TS_profile_20181010_032\n"
     ]
    }
   ],
   "source": [
    "importlib.reload(pf)\n",
    "importlib.reload(rcc)\n",
    "pf.compare_strahl(\n",
    "    program='20181010.032',\n",
    "    files=None,  # ['C_00009t2.421_3.421_1'],\n",
    "    material='C_',\n",
    "    strahl_ids=[\n",
    "        # '00102',\n",
    "        '00103',\n",
    "        '00104'],\n",
    "    names=[\n",
    "        # 'D$_{2}$',\n",
    "        'D$_{3}$',\n",
    "        'D$_{1}$'],\n",
    "    figx=5., figy=3.,\n",
    "    mode='full',  # 'full',  # 'edge',\n",
    "    debug=False)"
   ]
  },
  {
   "cell_type": "code",
   "execution_count": 14,
   "metadata": {},
   "outputs": [
    {
     "name": "stdout",
     "output_type": "stream",
     "text": [
      "\t>>Loading 00082t2.421_3.421_1\n",
      "\t>>Loading 00090t2.421_3.421_1\n"
     ]
    }
   ],
   "source": [
    "importlib.reload(pf)\n",
    "importlib.reload(rcc)\n",
    "pf.compare_strahl(\n",
    "    program='20181010.032',\n",
    "    files=None,  # ['C_00009t2.421_3.421_1'],\n",
    "    material='C_',\n",
    "    strahl_ids=[\n",
    "        # '00070',\n",
    "        # '00074'\n",
    "        '00082',\n",
    "        # '00086'\n",
    "        '00090'\n",
    "        ],\n",
    "    names=[\n",
    "        # 'T$_{e,a}\\\\approx$7%',\n",
    "        # 'T$_{e,a}\\\\approx$5%'\n",
    "        'T,n$_{e,a}\\\\approx$100%',\n",
    "        # 'T,n$_{e,a}\\\\approx$50%'\n",
    "        'T,n$_{e,a}\\\\sim$10%'\n",
    "        ],\n",
    "    figx=5., figy=3.,\n",
    "    mode='edge',  # 'full',  # 'edge',\n",
    "    debug=False)"
   ]
  },
  {
   "cell_type": "code",
   "execution_count": 24,
   "metadata": {},
   "outputs": [
    {
     "name": "stdout",
     "output_type": "stream",
     "text": [
      "\t>>Loading 00102t2.421_3.421_1\n",
      "\t>>Loading 00103t2.421_3.421_1\n",
      "\t>>Loading 00104t2.421_3.421_1\n"
     ]
    }
   ],
   "source": [
    "importlib.reload(pf)\n",
    "importlib.reload(rcc)\n",
    "pf.compare_strahl(\n",
    "    program='20181010.032',\n",
    "    files=None,  # ['C_00009t2.421_3.421_1'],\n",
    "    material='C_',\n",
    "    strahl_ids=[\n",
    "        '00102',\n",
    "        '00103',\n",
    "        '00104'\n",
    "        ],\n",
    "    names=[\n",
    "        'D$_{3}$',\n",
    "        'D$_{2}$',\n",
    "        'D$_{1}$'\n",
    "        ],\n",
    "    figx=5., figy=2.5,\n",
    "    mode='full',  # 'full',  # 'edge',\n",
    "    debug=False)"
   ]
  },
  {
   "cell_type": "code",
   "execution_count": 26,
   "metadata": {},
   "outputs": [
    {
     "name": "stdout",
     "output_type": "stream",
     "text": [
      "\t>>Loading 00091t0.000_0.621_1\n",
      "\t>>Loading 00092t1.220_2.220_1\n",
      "\t>>Loading 00093t6.154_7.154_1\n",
      "\t>>Loading 00094t2.421_3.421_1\n"
     ]
    }
   ],
   "source": [
    "importlib.reload(pf)\n",
    "importlib.reload(rcc)\n",
    "pf.compare_strahl(\n",
    "    program='20181010.032',\n",
    "    files=None,  # ['C_00009t2.421_3.421_1'],\n",
    "    material='C_',\n",
    "    strahl_ids=[\n",
    "        '00091',\n",
    "        '00092',\n",
    "        '00093',\n",
    "        '00094'\n",
    "        ],\n",
    "    names=[\n",
    "        'f$_{rad}$=33%',\n",
    "        'f$_{rad}$=66%',\n",
    "        'f$_{rad}$=90%',\n",
    "        'f$_{rad}$=100%'\n",
    "        ],\n",
    "    figx=5., figy=2.5,\n",
    "    mode='full',  # 'full',  # 'edge',\n",
    "    debug=False)"
   ]
  },
  {
   "cell_type": "code",
   "execution_count": null,
   "metadata": {},
   "outputs": [],
   "source": [
    "importlib.reload(TA)\n",
    "TS, time = TA.return_TS_profile_for_t(\n",
    "    shotno=program, scaling='gauss', t=0.621)"
   ]
  },
  {
   "cell_type": "code",
   "execution_count": 28,
   "metadata": {},
   "outputs": [
    {
     "name": "stdout",
     "output_type": "stream",
     "text": [
      "\tCreating fluxsurface library for EIM_beta000\n",
      "                FLUXSURFACE: beta-scan with bell-shaped pressure profile ~ (1-s)^2; peaking\n",
      "                             factor = 3; runs with _l6ns151 have an enlarged volume - cover\n",
      "                             island region EIM configuration (ref. configuration A: standard,\n",
      "                             planned OP1.2 configuration). Flux surface geometry of EIM\n",
      "                             configuration corresponds to the experimental EJM configuration\n",
      "\t\tLoading from: EIM_beta000_fs_data.json\n",
      "\t\tSplitting detectors and slit 4x2 times\n",
      "\t\t>> End result supposed to have 8 squares\n",
      "\tConstructing lines of sight...\n",
      "\t\t\\\\ load xy slope  (128, 64) 0.06MB\n",
      "\t\t\\\\ load xy constant  (128, 64) 0.06MB\n",
      "\t\t\\\\ load xy range  (128, 64, 2) 0.13MB\n",
      "\t\t\\\\ load xy line  (128, 64, 2) 0.13MB\n",
      "\t\t\\\\ load xz slope  (128, 64) 0.06MB\n",
      "\t\t\\\\ load xz constant  (128, 64) 0.06MB\n",
      "\t\t\\\\ load xz range  (128, 64, 2) 0.13MB\n",
      "\t\t\\\\ load xz line  (128, 64, 2) 0.13MB\n",
      "\t\t\\\\ load rz slope  (128, 64) 0.06MB\n",
      "\t\t\\\\ load rz constant  (128, 64) 0.06MB\n",
      "\t\t\\\\ load rz range  (128, 64, 2) 0.13MB\n",
      "\t\t\\\\ load rz line  (128, 64, 2) 0.13MB\n",
      "\tMeshing in 3D x1.3 inflated [phi x FS x L]: 30 x 21 x 151 ...\n",
      "\t\t\\\\ load mesh3D  (4, 30, 21, 151) 2.90MB\n",
      "\t\\\\ final calculation label: EIM_beta000_sN8_30x20x150_1.3\n",
      "\tMeshing in 2D [FS x L]: 21 x 151 ...\n",
      "\t\t\\\\ loaded mesh2D  0.00MB\n",
      "\tFinding volume of center LoS vertice inside fluxsurfaces ...\n",
      "\t\t\\\\ load volume raw  (128, 64) 0.06MB\n",
      "\t\t\\\\ load volume rawO  (128,) 0.00MB\n",
      "\tScaling volume by angles and areas ...\n",
      "\t\t\\\\ load volume  (128, 64) 0.06MB\n",
      "\t\t\\\\ load volume old  (128,) 0.00MB\n",
      "\tFinding line intersections in 3D [N² x phi x FS x L]: 64 x 30 x 20 x 150 ...\n",
      "\t\t\\\\ load line sections3D  (128, 64, 20, 150) 187.50MB\n",
      "\tFinding line intersections in 2D [N² x FS x L]: 64 x 20 x 150 ...\n",
      "\t\t\\\\ load line sections2D  (128, 64, 20, 150) 187.50MB\n",
      "\tCalculating emissivity factors in 3D ...\n",
      "\t\t\\\\ load emissivity3D  (128, 64, 20, 150) 187.50MB\n",
      "\tCalculating emissivity factors in 2D ...\n",
      "\t\t\\\\ load emissivity2D  (128, 64, 20, 150) 187.50MB\n",
      "\t\t\\\\ warning: channels with zero emissivty: [0, 31]\n",
      "\tGet effective radius along LoS ...\n",
      "\t\t\\\\ load positions  (129, 20, 150, 4) 11.81MB\n",
      "\t\t\\\\ load reff  (129, 64, 20, 150) 188.96MB\n",
      "\t\t\\\\ load minor radius\n"
     ]
    }
   ],
   "source": [
    "importlib.reload(ptl)\n",
    "importlib.reload(fgp)\n",
    "importlib.reload(invert)\n",
    "\n",
    "(raw_volume, old_volume, volume, line_sections2D, line_sections3D,\n",
    " emissivity2D, emissivity3D, factors, reff, pos_lofs,\n",
    " minor_radius, reff_LoS, geometry, interpolated, LoS, label) = invert.main(\n",
    "    nPhi=30, nL=150, nFS=20, vpF=1.3, N=[4, 2], \n",
    "    VMID='EIM_000', interp_method='square',  # triang\n",
    "    tilt_deg=1., error_scale=0.0001,  # 0.1 mm (0.5 mm)  \n",
    "    add_camera=False,\n",
    "    new_type='VBCm',  # 'HBCm'\n",
    "    artificial_HBCm=False,\n",
    "    random_error=False,\n",
    "    centered=False,\n",
    "    fix_LoS=False,\n",
    "    symmetric=False,\n",
    "    tilt=False,\n",
    "    plot=False,\n",
    "    debug=False)"
   ]
  },
  {
   "cell_type": "code",
   "execution_count": 4,
   "metadata": {},
   "outputs": [
    {
     "name": "stdout",
     "output_type": "stream",
     "text": [
      "\tCreating fluxsurface library for EIM_beta000\n",
      "                FLUXSURFACE: beta-scan with bell-shaped pressure profile ~ (1-s)^2; peaking\n",
      "                             factor = 3; runs with _l6ns151 have an enlarged volume - cover\n",
      "                             island region EIM configuration (ref. configuration A: standard,\n",
      "                             planned OP1.2 configuration). Flux surface geometry of EIM\n",
      "                             configuration corresponds to the experimental EJM configuration\n",
      "\t\tLoading from: EIM_beta000_fs_data.json\n",
      "\t\tSplitting detectors and slit 4x2 times\n",
      "\t\t>> End result supposed to have 8 squares\n",
      "\tConstructing lines of sight...\n",
      "\t\t\\\\ load xy slope  (128, 64) 0.06MB\n",
      "\t\t\\\\ load xy constant  (128, 64) 0.06MB\n",
      "\t\t\\\\ load xy range  (128, 64, 2) 0.13MB\n",
      "\t\t\\\\ load xy line  (128, 64, 2) 0.13MB\n",
      "\t\t\\\\ load xz slope  (128, 64) 0.06MB\n",
      "\t\t\\\\ load xz constant  (128, 64) 0.06MB\n",
      "\t\t\\\\ load xz range  (128, 64, 2) 0.13MB\n",
      "\t\t\\\\ load xz line  (128, 64, 2) 0.13MB\n",
      "\t\t\\\\ load rz slope  (128, 64) 0.06MB\n",
      "\t\t\\\\ load rz constant  (128, 64) 0.06MB\n",
      "\t\t\\\\ load rz range  (128, 64, 2) 0.13MB\n",
      "\t\t\\\\ load rz line  (128, 64, 2) 0.13MB\n",
      "\tMeshing in 3D x1.3 inflated [phi x FS x L]: 30 x 21 x 151 ...\n",
      "\t\t\\\\ load mesh3D  (4, 30, 21, 151) 2.90MB\n",
      "\t\\\\ final calculation label: EIM_beta000_sN8_30x20x150_1.3\n",
      "\tMeshing in 2D [FS x L]: 21 x 151 ...\n",
      "\t\t\\\\ loaded mesh2D  0.00MB\n",
      "\tFinding volume of center LoS vertice inside fluxsurfaces ...\n",
      "\t\t\\\\ load volume raw  (128, 64) 0.06MB\n",
      "\t\t\\\\ load volume rawO  (128,) 0.00MB\n",
      "\tScaling volume by angles and areas ...\n",
      "\t\t\\\\ load volume  (128, 64) 0.06MB\n",
      "\t\t\\\\ load volume old  (128,) 0.00MB\n",
      "\tFinding line intersections in 3D [N² x phi x FS x L]: 64 x 30 x 20 x 150 ...\n",
      "\t\t\\\\ load line sections3D  (128, 64, 20, 150) 187.50MB\n",
      "\tFinding line intersections in 2D [N² x FS x L]: 64 x 20 x 150 ...\n",
      "\t\t\\\\ load line sections2D  (128, 64, 20, 150) 187.50MB\n",
      "\tCalculating emissivity factors in 3D ...\n",
      "\t\t\\\\ load emissivity3D  (128, 64, 20, 150) 187.50MB\n",
      "\tCalculating emissivity factors in 2D ...\n",
      "\t\t\\\\ load emissivity2D  (128, 64, 20, 150) 187.50MB\n",
      "\t\t\\\\ warning: channels with zero emissivty: [0, 31]\n",
      "\tGet effective radius along LoS ...\n",
      "\t\t\\\\ load positions  (129, 20, 150, 4) 11.81MB\n",
      "\t\t\\\\ load reff  (129, 64, 20, 150) 188.96MB\n",
      "\t\t\\\\ load minor radius\n",
      "\t >> Get forward chordal profile, loading: ...\n",
      "\t\t ... configuration: EIM_beta000_sN8_30x20x150_1.3\n",
      "\t>>Loading 00091t0.000_0.621_1\n",
      "\t>>Loading 00092t1.220_2.220_1\n",
      "\t>>Loading 00093t6.154_7.154_1\n",
      "\t>>Loading 00094t2.421_3.421_1\n"
     ]
    }
   ],
   "source": [
    "importlib.reload(ptl)\n",
    "importlib.reload(fgp)\n",
    "importlib.reload(invert)\n",
    "\n",
    "(mesh2D, mesh3D, raw_volume, old_volume, volume, line_sections2D,\n",
    " line_sections3D, emissivity2D, emissivity3D, factors, reff, pos_lofs,\n",
    " minor_radius, reff_LoS, geometry, interpolated, LoS, label) = invert.main(\n",
    "    nPhi=30, nL=150, nFS=20, vpF=1.3, N=[4, 2], \n",
    "    VMID='EIM_000', interp_method='square',  # triang\n",
    "    tilt_deg=1., error_scale=0.0001,  # 0.1 mm (0.5 mm)  \n",
    "    add_camera=False,\n",
    "    new_type='VBCm',  # 'HBCm'\n",
    "    artificial_HBCm=False,\n",
    "    random_error=False,\n",
    "    centered=False,\n",
    "    fix_LoS=False,\n",
    "    symmetric=False,\n",
    "    tilt=False,\n",
    "    plot=False,\n",
    "    debug=False)\n",
    "\n",
    "cp = ptl.forward_integrated_LOS(\n",
    "    material='C_',\n",
    "    strahl_ids=['00091', '00092', '00093', '00094'],\n",
    "    labels=['f$_{rad}$=33%', 'f$_{rad}$=66%', 'f$_{rad}$=90%', 'f$_{rad}$=100%'],\n",
    "    emissivity=emissivity3D, reff=reff, reff_LoS=reff_LoS, minor_radius=minor_radius,\n",
    "    label=label, plot=True, debug=False)"
   ]
  },
  {
   "cell_type": "code",
   "execution_count": 87,
   "metadata": {},
   "outputs": [
    {
     "name": "stdout",
     "output_type": "stream",
     "text": [
      "\t >> Get forward chordal profile, loading: ...\n",
      "\t\t ... configuration: EIM_beta000_sN8_30x20x150_1.3\n",
      "\t>>Loading 00091t0.000_0.621_1\n",
      "\t>>Loading 00092t1.220_2.220_1\n",
      "\t>>Loading 00093t6.154_7.154_1\n",
      "\t>>Loading 00094t2.421_3.421_1\n"
     ]
    }
   ],
   "source": [
    "importlib.reload(ptl)\n",
    "importlib.reload(fgp)\n",
    "cp = ptl.forward_integrated_LOS(\n",
    "    material='C_',\n",
    "    strahl_ids=['00091', '00092', '00093', '00094'],\n",
    "    labels=['f$_{rad}$=33%', 'f$_{rad}$=66%', 'f$_{rad}$=90%', 'f$_{rad}$=100%'],\n",
    "    emissivity=emissivity3D, reff=reff, reff_LoS=reff_LoS, minor_radius=minor_radius,\n",
    "    label=label, plot=True, debug=False)"
   ]
  },
  {
   "cell_type": "code",
   "execution_count": 88,
   "metadata": {},
   "outputs": [
    {
     "name": "stdout",
     "output_type": "stream",
     "text": [
      "\t >> Get forward chordal profile, loading: ...\n",
      "\t\t ... configuration: EIM_beta000_sN8_30x20x150_1.3\n",
      "\t>>Loading 00102t2.421_3.421_1\n",
      "\t>>Loading 00103t2.421_3.421_1\n",
      "\t>>Loading 00104t2.421_3.421_1\n"
     ]
    }
   ],
   "source": [
    "importlib.reload(ptl)\n",
    "importlib.reload(fgp)\n",
    "cp = ptl.forward_integrated_LOS(\n",
    "    material='C_',\n",
    "    strahl_ids=['00102', '00103', '00104'],\n",
    "    labels=['D$_{3}$', 'D$_{2}$', 'D$_{1}$'],\n",
    "    emissivity=emissivity3D, reff=reff, reff_LoS=reff_LoS, minor_radius=minor_radius,\n",
    "    label=label, plot=True, debug=False)"
   ]
  },
  {
   "cell_type": "code",
   "execution_count": 89,
   "metadata": {},
   "outputs": [
    {
     "name": "stdout",
     "output_type": "stream",
     "text": [
      "\t >> Get forward chordal profile, loading: ...\n",
      "\t\t ... configuration: EIM_beta000_sN8_30x20x150_1.3\n",
      "\t>>Loading 00082t2.421_3.421_1\n",
      "\t>>Loading 00090t2.421_3.421_1\n"
     ]
    }
   ],
   "source": [
    "importlib.reload(ptl)\n",
    "importlib.reload(fgp)\n",
    "cp = ptl.forward_integrated_LOS(\n",
    "    material='C_',\n",
    "    strahl_ids=['00082', '00090'],\n",
    "    labels=['T,n$_{e,a}\\\\approx$100%', 'T,n$_{e,a}\\\\sim$10%'],\n",
    "    emissivity=emissivity3D, reff=reff, reff_LoS=reff_LoS,minor_radius=minor_radius,\n",
    "    label=label, plot=True, debug=False)"
   ]
  },
  {
   "cell_type": "code",
   "execution_count": 90,
   "metadata": {},
   "outputs": [
    {
     "name": "stdout",
     "output_type": "stream",
     "text": [
      "\t\t>> chordal profiles...\n"
     ]
    }
   ],
   "source": [
    "importlib.reload(pf)\n",
    "importlib.reload(radfrac)\n",
    "\n",
    "foo = radfrac.chordal_profile(reff=reff_LoS['minimum'])"
   ]
  }
 ],
 "metadata": {
  "interpreter": {
   "hash": "2bd2964364db3b719c42815f72d108a73b2f2b078d4935488ba58600ae9e429a"
  },
  "kernelspec": {
   "display_name": "Python 3.7.4 64-bit",
   "language": "python",
   "name": "python3"
  },
  "language_info": {
   "codemirror_mode": {
    "name": "ipython",
    "version": 3
   },
   "file_extension": ".py",
   "mimetype": "text/x-python",
   "name": "python",
   "nbconvert_exporter": "python",
   "pygments_lexer": "ipython3",
   "version": "3.7.4"
  },
  "orig_nbformat": 2
 },
 "nbformat": 4,
 "nbformat_minor": 2
}
